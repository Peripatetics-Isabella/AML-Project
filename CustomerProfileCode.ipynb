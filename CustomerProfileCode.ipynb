{
 "cells": [
  {
   "cell_type": "code",
   "execution_count": 10,
   "metadata": {
    "collapsed": true
   },
   "outputs": [],
   "source": [
    "high_risk_countries = ['AF', 'AO', 'AZ', 'BD', 'BY', 'BZ', 'BO', 'MM', 'KH', 'KM', 'CD', 'CI', 'CU', 'GN', 'GW', 'GY',\n",
    "                       'HT', 'ID', 'IR', 'IQ', 'KZ', 'KE', 'KP', 'LA', 'LB', 'LR', 'LY', 'NG', 'PK', 'PG', 'PY', 'SL', \n",
    "                       'SX', 'SO', 'SD', 'SY', 'TH', 'TR', 'VE', 'VN', 'YE', 'ZW', 'AL', 'DZ', 'AD', 'AI', 'AR', 'AW', \n",
    "                       'BS', 'BJ', 'BM', 'BA', 'BR', 'VG', 'BN', 'BF', 'BI', 'KY', 'CF', 'TD', 'CN', 'CO', 'CK', 'CR', \n",
    "                       'CY', 'DM', 'DO', 'EC', 'EG', 'GQ', 'ER', 'GA', 'GM', 'GH', 'GI', 'GR', 'GD', 'GT', 'GG', 'HN',\n",
    "                       'IM', 'JP', 'JE', 'JO', 'KR', 'KW', 'KG', 'LI', 'LU', 'MO', 'MG', 'MW', 'MY', 'MV', 'ML', 'MH', \n",
    "                       'MR', 'MX', 'MD', 'MC', 'MN', 'MS', 'MA', 'MZ', 'NP', 'NI', 'NE', 'PW', 'PA', 'PE', 'PH', 'RO', \n",
    "                       'RU', 'KN', 'LC', 'VC', 'WS', 'ST', 'SA', 'SN', 'SC', 'SB', 'SS', 'LK', 'SR', 'SZ', 'TJ', 'TZ', \n",
    "                       'TG', 'TO', 'TT', 'TN', 'TM', 'UG', 'UA', 'UY', 'UZ', 'VU', 'EH', 'ZM']"
   ]
  },
  {
   "cell_type": "markdown",
   "metadata": {},
   "source": [
    "Get information on a single accountid"
   ]
  },
  {
   "cell_type": "code",
   "execution_count": 11,
   "metadata": {
    "collapsed": false
   },
   "outputs": [],
   "source": [
    "%%sql --module select_info_of_accountid\n",
    "SELECT * FROM [practicum-2016:combined_test_set.cc_trans]\n",
    "WHERE ACCOUNTID = 10813485"
   ]
  },
  {
   "cell_type": "markdown",
   "metadata": {},
   "source": [
    "Create pie chart on the high and low risk countries"
   ]
  },
  {
   "cell_type": "code",
   "execution_count": 12,
   "metadata": {
    "collapsed": false
   },
   "outputs": [
    {
     "data": {
      "text/plain": [
       "<matplotlib.axes._subplots.AxesSubplot at 0x7fbd5d32b6d0>"
      ]
     },
     "execution_count": 12,
     "metadata": {},
     "output_type": "execute_result"
    },
    {
     "data": {
      "image/png": "[encoded data removed]",
      "text/plain": [
       "<matplotlib.figure.Figure at 0x7fbd5c592fd0>"
      ]
     },
     "metadata": {},
     "output_type": "display_data"
    }
   ],
   "source": [
    "import gcp.bigquery as bq\n",
    "import pandas as pd\n",
    "from matplotlib import pyplot as plt\n",
    "import numpy as np\n",
    "\n",
    "account_info = bq.Query(select_info_of_accountid).to_dataframe()\n",
    "HL_risk_country = [0,0]\n",
    "for i in account_info['MERCHANT_COUNTRY']:\n",
    "  if i in high_risk_countries:\n",
    "    HL_risk_country[0] += 1\n",
    "  else:\n",
    "    HL_risk_country[1] += 1\n",
    "\n",
    "HL_risk_country_table = pd.Series(HL_risk_country,index = ['High risk countries trans', 'low risk countries trans']\n",
    "                                 ,name='transactions')\n",
    "HL_risk_country_table.columns = ['numbs']\n",
    "HL_risk_country_table.plot(kind ='pie', autopct='%.2f',fontsize=20)"
   ]
  },
  {
   "cell_type": "markdown",
   "metadata": {},
   "source": [
    "Create query to get the high risk customers customer profiling data"
   ]
  },
  {
   "cell_type": "code",
   "execution_count": 13,
   "metadata": {
    "collapsed": true
   },
   "outputs": [],
   "source": [
    "%%sql --module select_target_table\n",
    "SELECT * FROM [practicum-2016:combined_test_set.uber_cust]\n",
    "WHERE ACCOUNTID IN \n",
    "(SELECT ACCOUNTID FROM [practicum-2016:combined_test_set.TOP_529])"
   ]
  },
  {
   "cell_type": "code",
   "execution_count": 15,
   "metadata": {
    "collapsed": false
   },
   "outputs": [],
   "source": [
    "%%sql --module select_rest_table\n",
    "SELECT * FROM [practicum-2016:combined_test_set.uber_cust]\n",
    "WHERE ACCOUNTID NOT IN \n",
    "(SELECT ACCOUNTID FROM [practicum-2016:combined_test_set.TOP_529])"
   ]
  },
  {
   "cell_type": "markdown",
   "metadata": {},
   "source": [
    "Code to determine the overlap rate of the customer profilings"
   ]
  },
  {
   "cell_type": "code",
   "execution_count": 16,
   "metadata": {
    "collapsed": false
   },
   "outputs": [
    {
     "name": "stdout",
     "output_type": "stream",
     "text": [
      "AUCTION                          0.129032\n",
      "CASHINTENSIVE_BUSINESS           0.066667\n",
      "DEALER_PRECIOUS_METAL            0.105263\n",
      "EMBASSY_CONSULATE                0.142857\n",
      "HIGH_NET_WORTH                   0.193548\n",
      "INTERNET_GAMBLING                0.086957\n",
      "THIRD_PARTY_PAYMENT_PROCESSOR    0.066667\n",
      "Name: 3, dtype: float64\n",
      "ARMS_MANUFACTURER                     0.000000\n",
      "AUCTION                               0.129032\n",
      "CASHINTENSIVE_BUSINESS                0.066667\n",
      "CASINO_GAMBLING                       0.048341\n",
      "COMPLEX_HI_VEHICLE                    0.055556\n",
      "DEALER_PRECIOUS_METAL                 0.105263\n",
      "DEMARKET_FLAG                         0.000000\n",
      "DIGITAL_PM_OPERATOR                   0.047619\n",
      "EMBASSY_CONSULATE                     0.142857\n",
      "EXCHANGE_CURRENCY                     0.000000\n",
      "HIGH_NET_WORTH                        0.193548\n",
      "INTERNET_GAMBLING                     0.086957\n",
      "MEDICAL_MARIJUANA_DISPENSARY          0.035714\n",
      "NONREGULATED_FINANCIAL_INSTITUTION    0.000000\n",
      "PEP                                   0.051020\n",
      "PRIVATELY_ATM_OPERATOR                0.000000\n",
      "SALES_USED_VEHICLES                   0.000000\n",
      "SAR                                   0.000000\n",
      "THIRD_PARTY_PAYMENT_PROCESSOR         0.066667\n",
      "Name: 3, dtype: float64\n",
      "0.0541705963298\n"
     ]
    }
   ],
   "source": [
    "import gcp.bigquery as bq\n",
    "import pandas as pd\n",
    "\n",
    "target_table = bq.Query(select_target_table).to_dataframe()\n",
    "rest_table = bq.Query(select_rest_table).to_dataframe()\n",
    "\n",
    "YN_search = ['PEP','SAR','DEMARKET_FLAG','AUCTION','COMPLEX_HI_VEHICLE','INTERNET_GAMBLING',\n",
    "            'MEDICAL_MARIJUANA_DISPENSARY','NONREGULATED_FINANCIAL_INSTITUTION',\n",
    "            'THIRD_PARTY_PAYMENT_PROCESSOR','DEALER_PRECIOUS_METAL','DIGITAL_PM_OPERATOR',\n",
    "            'EMBASSY_CONSULATE','EXCHANGE_CURRENCY']\n",
    "\n",
    "TF_searching_scale = ['CASHINTENSIVE_BUSINESS','PRIVATELY_ATM_OPERATOR','HIGH_NET_WORTH','ARMS_MANUFACTURER',\n",
    "                      'SALES_USED_VEHICLES','CASINO_GAMBLING']\n",
    "\n",
    "target_table_length = target_table['ACCOUNTID'].count()\n",
    "rest_table_length = rest_table['ACCOUNTID'].count()\n",
    "result = {}\n",
    "for i in YN_search:\n",
    "  target_col = target_table[i]\n",
    "  target_numb = float(target_col[target_col=='Yes'].count())/float(target_table_length)\n",
    "  rest_col = rest_table[i]\n",
    "  rest_numb = float(rest_col[rest_col=='Yes'].count())/float(rest_table_length)\n",
    "  deno = (float(rest_col[rest_col=='Yes'].count())+float(target_col[target_col=='Yes'].count()))\n",
    "  if deno == 0:\n",
    "    deno=1\n",
    "  result[i] = [float(target_col[target_col=='Yes'].count()),target_table_length,target_numb,\n",
    "               float(target_col[target_col=='Yes'].count())/deno,\n",
    "              float(rest_col[rest_col=='Yes'].count()),rest_table_length,rest_numb]\n",
    "\n",
    "for i in TF_searching_scale:\n",
    "  target_col = target_table[i]\n",
    "  target_numb = float(target_col[target_col=='True'].count())/float(target_table_length)\n",
    "  rest_col = rest_table[i]\n",
    "  rest_numb = float(rest_col[rest_col=='True'].count())/float(rest_table_length)\n",
    "  deno = (float(rest_col[rest_col=='True'].count())+float(target_col[target_col=='True'].count()))\n",
    "  if deno == 0:\n",
    "    deno=1\n",
    "  result[i] = [float(target_col[target_col=='True'].count()),target_table_length,target_numb,\n",
    "               float(target_col[target_col=='True'].count())/deno,\n",
    "              float(rest_col[rest_col=='True'].count()),rest_table_length,rest_numb]\n",
    "\n",
    "result_table = pd.DataFrame(result)\n",
    "verlap_list = result_table.iloc[3][result_table.iloc[3]>0.06]\n",
    "print(verlap_list)\n",
    "print(result_table.iloc[3])\n",
    "print(np.mean(result_table.iloc[3]))"
   ]
  },
  {
   "cell_type": "raw",
   "metadata": {
    "collapsed": false
   },
   "source": [
    "print(result_table.iloc[1:3][result_table.iloc[3]>0.00])\n",
    "print('hellow')\n",
    "print(result_table)"
   ]
  },
  {
   "cell_type": "code",
   "execution_count": 55,
   "metadata": {
    "collapsed": false
   },
   "outputs": [
    {
     "name": "stdout",
     "output_type": "stream",
     "text": [
      "['ARMS_MANUFACTURER' 'AUCTION' 'CASHINTENSIVE_BUSINESS' 'CASINO_GAMBLING'\n",
      " 'COMPLEX_HI_VEHICLE' 'DEALER_PRECIOUS_METAL' 'DEMARKET_FLAG'\n",
      " 'DIGITAL_PM_OPERATOR' 'EMBASSY_CONSULATE' 'EXCHANGE_CURRENCY'\n",
      " 'HIGH_NET_WORTH' 'INTERNET_GAMBLING' 'MEDICAL_MARIJUANA_DISPENSARY'\n",
      " 'NONREGULATED_FINANCIAL_INSTITUTION' 'PEP' 'PRIVATELY_ATM_OPERATOR'\n",
      " 'SALES_USED_VEHICLES' 'SAR' 'THIRD_PARTY_PAYMENT_PROCESSOR']\n"
     ]
    },
    {
     "data": {
      "text/plain": [
       "CASHINTENSIVE_BUSINESS           0.066667\n",
       "THIRD_PARTY_PAYMENT_PROCESSOR    0.066667\n",
       "INTERNET_GAMBLING                0.086957\n",
       "DEALER_PRECIOUS_METAL            0.105263\n",
       "AUCTION                          0.129032\n",
       "EMBASSY_CONSULATE                0.142857\n",
       "HIGH_NET_WORTH                   0.193548\n",
       "Name: 3, dtype: float64"
      ]
     },
     "execution_count": 55,
     "metadata": {},
     "output_type": "execute_result"
    }
   ],
   "source": [
    "print(result_table.columns.values)\n",
    "#result_table.sort_values()\n",
    "transposeResults= result_table.transpose()\n",
    "sortedV = transposeResults.sort_values(by = 3)\n",
    "#print(sortedV.iloc[:,3])\n",
    "#print(result_table)\n",
    "#print(result_table.iloc[2])\n",
    "sortedV[sortedV[3] > .06][3]"
   ]
  },
  {
   "cell_type": "code",
   "execution_count": 49,
   "metadata": {
    "collapsed": false
   },
   "outputs": [
    {
     "data": {
      "text/plain": [
       "[0.0,\n",
       " 0.0,\n",
       " 0.0,\n",
       " 0.0,\n",
       " 0.0,\n",
       " 0.0,\n",
       " 0.0,\n",
       " 0.035714285714285712,\n",
       " 0.047619047619047616,\n",
       " 0.048341232227488151,\n",
       " 0.051020408163265307,\n",
       " 0.055555555555555552,\n",
       " 0.066666666666666666,\n",
       " 0.066666666666666666,\n",
       " 0.086956521739130432,\n",
       " 0.10526315789473684,\n",
       " 0.12903225806451613,\n",
       " 0.14285714285714285,\n",
       " 0.19354838709677419]"
      ]
     },
     "execution_count": 49,
     "metadata": {},
     "output_type": "execute_result"
    }
   ],
   "source": [
    "sorted(result_table.iloc[3])\n",
    "#sorted(result_table.iloc[3]).index"
   ]
  },
  {
   "cell_type": "markdown",
   "metadata": {},
   "source": [
    "Draw Histogram for the overlap rate"
   ]
  },
  {
   "cell_type": "code",
   "execution_count": 83,
   "metadata": {
    "collapsed": false
   },
   "outputs": [
    {
     "ename": "AttributeError",
     "evalue": "'module' object has no attribute 'axhline'",
     "output_type": "error",
     "traceback": [
      "\u001b[0;31m\u001b[0m",
      "\u001b[0;31mAttributeError\u001b[0mTraceback (most recent call last)",
      "\u001b[0;32m<ipython-input-83-b42238870a3a>\u001b[0m in \u001b[0;36m<module>\u001b[0;34m()\u001b[0m\n\u001b[1;32m      6\u001b[0m \u001b[0;34m\u001b[0m\u001b[0m\n\u001b[1;32m      7\u001b[0m \u001b[0mshow_bar_table\u001b[0m\u001b[0;34m.\u001b[0m\u001b[0mplot\u001b[0m\u001b[0;34m(\u001b[0m\u001b[0mkind\u001b[0m \u001b[0;34m=\u001b[0m\u001b[0;34m'bar'\u001b[0m\u001b[0;34m,\u001b[0m \u001b[0mrot\u001b[0m \u001b[0;34m=\u001b[0m \u001b[0;36m90\u001b[0m\u001b[0;34m)\u001b[0m\u001b[0;34m\u001b[0m\u001b[0m\n\u001b[0;32m----> 8\u001b[0;31m \u001b[0mplt\u001b[0m\u001b[0;34m.\u001b[0m\u001b[0maxhline\u001b[0m\u001b[0;34m(\u001b[0m\u001b[0my\u001b[0m\u001b[0;34m=\u001b[0m\u001b[0;36m0.0529\u001b[0m\u001b[0;34m,\u001b[0m\u001b[0mxmin\u001b[0m\u001b[0;34m=\u001b[0m\u001b[0;36m0\u001b[0m\u001b[0;34m,\u001b[0m\u001b[0mxmax\u001b[0m\u001b[0;34m=\u001b[0m\u001b[0;36m1\u001b[0m\u001b[0;34m,\u001b[0m\u001b[0mcolor\u001b[0m \u001b[0;34m=\u001b[0m\u001b[0;34m'r'\u001b[0m\u001b[0;34m)\u001b[0m\u001b[0;34m\u001b[0m\u001b[0m\n\u001b[0m",
      "\u001b[0;31mAttributeError\u001b[0m: 'module' object has no attribute 'axhline'"
     ]
    },
    {
     "data": {
      "image/png": "[encoded data removed]",
      "text/plain": [
       "<matplotlib.figure.Figure at 0x7fbd5627ac50>"
      ]
     },
     "metadata": {},
     "output_type": "display_data"
    }
   ],
   "source": [
    "actual_val = pd.Series(sortedV[sortedV[3] > .06][3],name ='actual value')\n",
    "actual_val_index_list = actual_val.index.tolist()\n",
    "#expected_val = pd.Series([0.05,0.05,0.05,0.05,0.05,0.05,0.05],name='Expected value',index = actual_val_index_list)\n",
    "show_bar_table = pd.concat([actual_val],axis=1)\n",
    "show_bar_table.columns = ['actual overlap value']\n",
    "\n",
    "show_bar_table.plot(kind ='bar', rot = 90)\n",
    "plt.axhline(y=0.0529,xmin=0,xmax=1,color ='r')"
   ]
  },
  {
   "cell_type": "markdown",
   "metadata": {},
   "source": [
    "Further query into the 10 main customer attributes"
   ]
  },
  {
   "cell_type": "code",
   "execution_count": 74,
   "metadata": {
    "collapsed": false
   },
   "outputs": [
    {
     "name": "stdout",
     "output_type": "stream",
     "text": [
      "34.0\n"
     ]
    }
   ],
   "source": [
    "ten_cus_attributes= ['AUCTION','INTERNET_GAMBLING','MEDICAL_MARIJUANA_DISPENSARY','THIRD_PARTY_PAYMENT_PROCESSOR',\n",
    "                     'DEALER_PRECIOUS_METAL','EMBASSY_CONSULATE','EXCHANGE_CURRENCY','CASHINTENSIVE_BUSINESS',\n",
    "                     'HIGH_NET_WORTH','ARMS_MANUFACTURER']\n",
    "count_total_att_in_529 =0\n",
    "for i in ten_cus_attributes:\n",
    "  count_total_att_in_529 = result_table[i].iloc[0]+count_total_att_in_529\n",
    "\n",
    "print(count_total_att_in_529)"
   ]
  },
  {
   "cell_type": "code",
   "execution_count": 75,
   "metadata": {
    "collapsed": true
   },
   "outputs": [],
   "source": [
    "%%sql --module select_score_table\n",
    "SELECT * FROM [practicum-2016:combined_test_set.Risk_score_table]"
   ]
  },
  {
   "cell_type": "markdown",
   "metadata": {},
   "source": [
    "Histogrm of the Risk Score"
   ]
  },
  {
   "cell_type": "code",
   "execution_count": 76,
   "metadata": {
    "collapsed": false
   },
   "outputs": [
    {
     "name": "stdout",
     "output_type": "stream",
     "text": [
      "count    9881.000000\n",
      "mean        3.614715\n",
      "std         2.149763\n",
      "min         0.000000\n",
      "25%         2.000000\n",
      "50%         4.000000\n",
      "75%         5.000000\n",
      "max        14.000000\n",
      "Name: RISK_SCORE, dtype: float64\n"
     ]
    },
    {
     "data": {
      "image/png": "[encoded data removed]",
      "text/plain": [
       "<matplotlib.figure.Figure at 0x7fbd53adbc10>"
      ]
     },
     "metadata": {},
     "output_type": "display_data"
    }
   ],
   "source": [
    "import gcp.bigquery as bq\n",
    "import pandas as pd\n",
    "import matplotlib as plt\n",
    "import numpy as np\n",
    "\n",
    "score_table = bq.Query(select_score_table).to_dataframe()\n",
    "score_table['RISK_SCORE'].plot(kind='hist',alpha=0.5,stacked=True)\n",
    "print(score_table['RISK_SCORE'].describe())\n"
   ]
  },
  {
   "cell_type": "code",
   "execution_count": null,
   "metadata": {
    "collapsed": true
   },
   "outputs": [],
   "source": [
    "%%bash\n",
    "pip install matplotlib-venn"
   ]
  },
  {
   "cell_type": "code",
   "execution_count": null,
   "metadata": {
    "collapsed": true
   },
   "outputs": [],
   "source": []
  },
  {
   "cell_type": "code",
   "execution_count": null,
   "metadata": {
    "collapsed": true
   },
   "outputs": [],
   "source": []
  }
 ],
 "metadata": {
  "kernelspec": {
   "display_name": "Python 2",
   "language": "python",
   "name": "python2"
  },
  "language_info": {
   "codemirror_mode": {
    "name": "ipython",
    "version": 2
   },
   "file_extension": ".py",
   "mimetype": "text/x-python",
   "name": "python",
   "nbconvert_exporter": "python",
   "pygments_lexer": "ipython2",
   "version": "2.7.9"
  }
 },
 "nbformat": 4,
 "nbformat_minor": 0
}
