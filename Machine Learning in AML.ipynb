{
 "cells": [
  {
   "cell_type": "markdown",
   "metadata": {},
   "source": [
    "#### 0. Initial Setup"
   ]
  },
  {
   "cell_type": "code",
   "execution_count": 2,
   "metadata": {
    "collapsed": false
   },
   "outputs": [
    {
     "name": "stdout",
     "output_type": "stream",
     "text": [
      "Requirement already satisfied (use --upgrade to upgrade): skflow in /usr/local/lib/python2.7/dist-packages\n",
      "Requirement already satisfied (use --upgrade to upgrade): sklearn in /usr/local/lib/python2.7/dist-packages (from skflow)\n",
      "Requirement already satisfied (use --upgrade to upgrade): scipy in /usr/local/lib/python2.7/dist-packages (from skflow)\n",
      "Requirement already satisfied (use --upgrade to upgrade): numpy in /usr/local/lib/python2.7/dist-packages (from skflow)\n",
      "Requirement already satisfied (use --upgrade to upgrade): scikit-learn in /usr/local/lib/python2.7/dist-packages (from sklearn->skflow)\n",
      "Cleaning up...\n"
     ]
    }
   ],
   "source": [
    "%%bash\n",
    "pip install skflow"
   ]
  },
  {
   "cell_type": "code",
   "execution_count": 3,
   "metadata": {
    "collapsed": true
   },
   "outputs": [],
   "source": [
    "import pandas as pd\n",
    "import matplotlib.pyplot as plt\n",
    "import numpy as np\n",
    "import gcp\n",
    "import gcp.bigquery as bq\n",
    "import skflow\n",
    "import tensorflow as tf\n",
    "from sklearn.metrics import accuracy_score\n",
    "from sklearn import preprocessing\n",
    "from sklearn.cross_validation import train_test_split\n",
    "from sklearn.ensemble import RandomForestClassifier\n",
    "from sklearn.linear_model import LinearRegression\n",
    "from sklearn.linear_model import LogisticRegression\n",
    "from sklearn import metrics\n",
    "import seaborn as sns"
   ]
  },
  {
   "cell_type": "code",
   "execution_count": 4,
   "metadata": {
    "collapsed": true
   },
   "outputs": [],
   "source": [
    "pd.options.display.max_columns = 999\n",
    "pd.options.display.max_rows = 999"
   ]
  },
  {
   "cell_type": "markdown",
   "metadata": {},
   "source": [
    "#### 1. We define the following queries to obtain 500 risky customers and 500 not risky customers and their ratios from the first six use_cases:"
   ]
  },
  {
   "cell_type": "code",
   "execution_count": 5,
   "metadata": {
    "collapsed": true
   },
   "outputs": [],
   "source": [
    "%%sql --module trxn_pct_not_risk\n",
    "\n",
    "DEFINE QUERY pct_table\n",
    "SELECT *, 0 as HIGH_RISK FROM combined_test_set.PctTable WHERE ACCOUNTID NOT IN (SELECT ACCOUNTID FROM combined_test_set.TOP_529) limit 500"
   ]
  },
  {
   "cell_type": "code",
   "execution_count": 6,
   "metadata": {
    "collapsed": true
   },
   "outputs": [],
   "source": [
    "%%sql --module trxn_pct_risk\n",
    "\n",
    "DEFINE QUERY pct_table\n",
    "SELECT *, 1 as HIGH_RISK, FROM combined_test_set.PctTable WHERE ACCOUNTID IN (SELECT ACCOUNTID FROM combined_test_set.TOP_529) limit 500"
   ]
  },
  {
   "cell_type": "markdown",
   "metadata": {},
   "source": [
    "#### 2. Convert SQL result to Python Dataframe:"
   ]
  },
  {
   "cell_type": "code",
   "execution_count": 7,
   "metadata": {
    "collapsed": true
   },
   "outputs": [],
   "source": [
    "#ratios of not risky customers (500)\n",
    "not_risky = bq.Query(trxn_pct_not_risk.pct_table).to_dataframe()\n",
    "#ratios of risky customers (500)\n",
    "risky = bq.Query(trxn_pct_risk.pct_table).to_dataframe()"
   ]
  },
  {
   "cell_type": "markdown",
   "metadata": {},
   "source": [
    "#### 3. A peek of what are the two tables look like:"
   ]
  },
  {
   "cell_type": "code",
   "execution_count": 149,
   "metadata": {
    "collapsed": false
   },
   "outputs": [],
   "source": [
    "#Ratios of not risky customers\n",
    "#not_risky.shape\n",
    "#not_risky\n",
    "\n",
    "#Ratios of risky customers\n",
    "#risky.shape\n",
    "#risky"
   ]
  },
  {
   "cell_type": "markdown",
   "metadata": {},
   "source": [
    "#### 4. Aggregate the two tables above to form a dataset and modify the dataframe to be ready for training and testing set:"
   ]
  },
  {
   "cell_type": "code",
   "execution_count": 8,
   "metadata": {
    "collapsed": true
   },
   "outputs": [],
   "source": [
    "sample_trans_wide = pd.concat([risky, not_risky])"
   ]
  },
  {
   "cell_type": "code",
   "execution_count": 9,
   "metadata": {
    "collapsed": true
   },
   "outputs": [],
   "source": [
    "sample_trans_wide = sample_trans_wide.drop('ACCOUNTID',1)\n",
    "response = sample_trans_wide.HIGH_RISK"
   ]
  },
  {
   "cell_type": "code",
   "execution_count": 10,
   "metadata": {
    "collapsed": true
   },
   "outputs": [],
   "source": [
    "sample_trans_wide = sample_trans_wide.drop('HIGH_RISK', 1)"
   ]
  },
  {
   "cell_type": "markdown",
   "metadata": {},
   "source": [
    "#### 5. Split training data and testing data:"
   ]
  },
  {
   "cell_type": "code",
   "execution_count": 11,
   "metadata": {
    "collapsed": false
   },
   "outputs": [
    {
     "name": "stdout",
     "output_type": "stream",
     "text": [
      "((200, 9), (800, 9), (200,), (800,))\n"
     ]
    }
   ],
   "source": [
    "t_size = 0.8\n",
    "X_train, X_test, y_train, y_test = train_test_split(sample_trans_wide, response, test_size=t_size, random_state=25)\n",
    "print (X_train.shape, X_test.shape, y_train.shape, y_test.shape)\n",
    "#print 'Number of High Risk Customer in testing set:', sum(y_test)\n",
    "#print 'Number of Low Risk Customer in testing set:', int(1000*t_size-sum(y_test))"
   ]
  },
  {
   "cell_type": "markdown",
   "metadata": {},
   "source": [
    "#### 6. Logistic Regression Model:"
   ]
  },
  {
   "cell_type": "code",
   "execution_count": 172,
   "metadata": {
    "collapsed": false
   },
   "outputs": [
    {
     "name": "stdout",
     "output_type": "stream",
     "text": [
      "Training Accuracy:\n",
      "0.84\n",
      "Test Accuracy:\n",
      "0.82625\n",
      "Delta:\n",
      "0.01375\n",
      "\n",
      "Classification Report:\n",
      "             precision    recall  f1-score   support\n",
      "\n",
      "          0       0.94      0.70      0.80       407\n",
      "          1       0.76      0.96      0.84       393\n",
      "\n",
      "avg / total       0.85      0.83      0.82       800\n",
      "\n",
      "Confusion Matrix:\n",
      "[[285 122]\n",
      " [ 17 376]]\n"
     ]
    },
    {
     "data": {
      "text/plain": [
       "<matplotlib.axes._subplots.AxesSubplot at 0x7fe993c518d0>"
      ]
     },
     "execution_count": 172,
     "metadata": {},
     "output_type": "execute_result"
    },
    {
     "data": {
      "image/png": "[encoded data removed]",
      "text/plain": [
       "<matplotlib.figure.Figure at 0x7fe993d44f10>"
      ]
     },
     "metadata": {},
     "output_type": "display_data"
    }
   ],
   "source": [
    "#A logistic classifier\n",
    "classifier  = LogisticRegression()\n",
    "classifier.fit(X_train, y_train)\n",
    "\n",
    "#The Training accuracy and Test accuracy\n",
    "print (\"Training Accuracy:\")\n",
    "print (accuracy_score(y_train, classifier.predict(X_train)))\n",
    "print (\"Test Accuracy:\")\n",
    "print (accuracy_score(y_test, classifier.predict(X_test)))\n",
    "print (\"Delta:\")\n",
    "print accuracy_score(y_train, classifier.predict(X_train))-accuracy_score(y_test, classifier.predict(X_test))\n",
    "#The Predictions from training data and testing data\n",
    "predictions = classifier.predict(X_train)\n",
    "y_pred = classifier.predict(X_test)\n",
    "\n",
    "#Classification Report\n",
    "print\n",
    "print (\"Classification Report:\")\n",
    "print metrics.classification_report(y_test, y_pred)\n",
    "\n",
    "#Confusion Matrix and Heatmap\n",
    "print (\"Confusion Matrix:\")\n",
    "log_matrix = metrics.confusion_matrix(y_test, y_pred)\n",
    "print log_matrix\n",
    "\n",
    "\n",
    "fig, ax = plt.subplots(figsize=(8,6))\n",
    "sns.heatmap(log_matrix,annot=True,cmap = 'Blues',ax = ax,fmt = 'g')"
   ]
  },
  {
   "cell_type": "markdown",
   "metadata": {},
   "source": [
    "#### 7. Random Forest Model:"
   ]
  },
  {
   "cell_type": "code",
   "execution_count": 170,
   "metadata": {
    "collapsed": false
   },
   "outputs": [
    {
     "name": "stdout",
     "output_type": "stream",
     "text": [
      "Accuracy Score for training:\n",
      "0.995\n",
      "Accuracy Score for test:\n",
      "0.86\n",
      "Delta:\n",
      "0.135\n",
      "\n",
      "Classification Report\n",
      "             precision    recall  f1-score   support\n",
      "\n",
      "          0       0.90      0.82      0.86       407\n",
      "          1       0.83      0.90      0.86       393\n",
      "\n",
      "avg / total       0.86      0.86      0.86       800\n",
      "\n",
      "Confusion Matrix:\n",
      "[[334  73]\n",
      " [ 39 354]]\n"
     ]
    },
    {
     "data": {
      "text/plain": [
       "<matplotlib.axes._subplots.AxesSubplot at 0x7fe9985e1e90>"
      ]
     },
     "execution_count": 170,
     "metadata": {},
     "output_type": "execute_result"
    },
    {
     "data": {
      "image/png": "[encoded data removed]",
      "text/plain": [
       "<matplotlib.figure.Figure at 0x7fe993c995d0>"
      ]
     },
     "metadata": {},
     "output_type": "display_data"
    }
   ],
   "source": [
    "#A random forest with 20 trees\n",
    "classifier = RandomForestClassifier(n_estimators = 20)\n",
    "classifier.fit(X_train, y_train)\n",
    "\n",
    "#print(sorted(classifier.feature_importances_, reverse = True)[1:10])\n",
    "#The Training accuracy and Test accuracy\n",
    "print(\"Accuracy Score for training:\")\n",
    "print accuracy_score(y_train, classifier.predict(X_train))\n",
    "print(\"Accuracy Score for test:\")\n",
    "print accuracy_score(y_test, classifier.predict(X_test))\n",
    "print(\"Delta:\")\n",
    "print accuracy_score(y_train, classifier.predict(X_train))-accuracy_score(y_test, classifier.predict(X_test))\n",
    "print\n",
    "\n",
    "#Prediction from testing data\n",
    "y_pred = classifier.predict(X_test)\n",
    "\n",
    "#Classification Report\n",
    "print(\"Classification Report\")\n",
    "print metrics.classification_report(y_test, y_pred)\n",
    "\n",
    "#Confusion Matrix and Heatmap\n",
    "print (\"Confusion Matrix:\")\n",
    "log_matrix = metrics.confusion_matrix(y_test, y_pred)\n",
    "print log_matrix\n",
    "\n",
    "\n",
    "fig, ax = plt.subplots(figsize=(8,6))\n",
    "sns.heatmap(log_matrix,annot=True,cmap = 'Blues',ax = ax,fmt = 'g')"
   ]
  }
 ],
 "metadata": {
  "kernelspec": {
   "display_name": "Python 2",
   "language": "python",
   "name": "python2"
  },
  "language_info": {
   "codemirror_mode": {
    "name": "ipython",
    "version": 2
   },
   "file_extension": ".py",
   "mimetype": "text/x-python",
   "name": "python",
   "nbconvert_exporter": "python",
   "pygments_lexer": "ipython2",
   "version": "2.7.9"
  }
 },
 "nbformat": 4,
 "nbformat_minor": 0
}
